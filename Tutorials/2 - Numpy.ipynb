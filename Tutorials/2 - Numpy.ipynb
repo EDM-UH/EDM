{
 "cells": [
  {
   "cell_type": "markdown",
   "metadata": {
    "button": false,
    "deletable": true,
    "editable": true,
    "new_sheet": false,
    "run_control": {
     "read_only": false
    }
   },
   "source": [
    "# Section 2: Numpy"
   ]
  },
  {
   "cell_type": "markdown",
   "metadata": {
    "button": false,
    "deletable": true,
    "editable": true,
    "new_sheet": false,
    "run_control": {
     "read_only": false
    }
   },
   "source": [
    "## Import statements"
   ]
  },
  {
   "cell_type": "code",
   "execution_count": 2,
   "metadata": {
    "button": false,
    "collapsed": false,
    "deletable": true,
    "editable": true,
    "new_sheet": false,
    "run_control": {
     "read_only": false
    }
   },
   "outputs": [
    {
     "name": "stdout",
     "output_type": "stream",
     "text": [
      "1.41421356237\n"
     ]
    }
   ],
   "source": [
    "import numpy\n",
    "\n",
    "x = [1,2,3,4,5]\n",
    "y = numpy.std(x) # must preface function with package name!\n",
    "print(y)"
   ]
  },
  {
   "cell_type": "markdown",
   "metadata": {
    "button": false,
    "deletable": true,
    "editable": true,
    "new_sheet": false,
    "run_control": {
     "read_only": false
    }
   },
   "source": [
    "### as alias"
   ]
  },
  {
   "cell_type": "code",
   "execution_count": 4,
   "metadata": {
    "button": false,
    "collapsed": false,
    "deletable": true,
    "editable": true,
    "new_sheet": false,
    "run_control": {
     "read_only": false
    }
   },
   "outputs": [
    {
     "name": "stdout",
     "output_type": "stream",
     "text": [
      "1.41421356237\n"
     ]
    }
   ],
   "source": [
    "import numpy as np\n",
    "\n",
    "x = [1,2,3,4,5]\n",
    "y = np.std(x) # must preface function with package alias!\n",
    "print(y)"
   ]
  },
  {
   "cell_type": "markdown",
   "metadata": {
    "button": false,
    "deletable": true,
    "editable": true,
    "new_sheet": false,
    "run_control": {
     "read_only": false
    }
   },
   "source": [
    "### from package import method"
   ]
  },
  {
   "cell_type": "code",
   "execution_count": 22,
   "metadata": {
    "button": false,
    "collapsed": false,
    "deletable": true,
    "editable": true,
    "new_sheet": false,
    "run_control": {
     "read_only": false
    }
   },
   "outputs": [
    {
     "name": "stdout",
     "output_type": "stream",
     "text": [
      "1.41421356237\n",
      "3.0\n"
     ]
    }
   ],
   "source": [
    "from numpy import std, mean\n",
    "\n",
    "x = [1,2,3,4,5]\n",
    "print(std(x)) # no longer need package name!\n",
    "print(mean(x))"
   ]
  },
  {
   "cell_type": "markdown",
   "metadata": {
    "button": false,
    "deletable": true,
    "editable": true,
    "new_sheet": false,
    "run_control": {
     "read_only": false
    }
   },
   "source": [
    "### from package import method as alias"
   ]
  },
  {
   "cell_type": "code",
   "execution_count": 18,
   "metadata": {
    "button": false,
    "collapsed": false,
    "deletable": true,
    "editable": true,
    "new_sheet": false,
    "run_control": {
     "read_only": false
    }
   },
   "outputs": [
    {
     "name": "stdout",
     "output_type": "stream",
     "text": [
      "1.41421356237\n"
     ]
    }
   ],
   "source": [
    "from numpy import std as mystery\n",
    "\n",
    "x = [1,2,3,4,5]\n",
    "y = mystery(x) # method has been renamed!\n",
    "print(y)"
   ]
  },
  {
   "cell_type": "markdown",
   "metadata": {
    "button": false,
    "deletable": true,
    "editable": true,
    "new_sheet": false,
    "run_control": {
     "read_only": false
    }
   },
   "source": [
    "### from package import everything"
   ]
  },
  {
   "cell_type": "code",
   "execution_count": 21,
   "metadata": {
    "button": false,
    "collapsed": false,
    "deletable": true,
    "editable": true,
    "new_sheet": false,
    "run_control": {
     "read_only": false
    }
   },
   "outputs": [
    {
     "name": "stdout",
     "output_type": "stream",
     "text": [
      "1.41421356237\n",
      "3.0\n",
      "3.0\n"
     ]
    }
   ],
   "source": [
    "from numpy import * # Don't do this. BAD!\n",
    "\n",
    "x = [1,2,3,4,5]\n",
    "print(std(x))\n",
    "print(mean(x))\n",
    "print(median(x))"
   ]
  },
  {
   "cell_type": "markdown",
   "metadata": {
    "button": false,
    "deletable": true,
    "editable": true,
    "new_sheet": false,
    "run_control": {
     "read_only": false
    }
   },
   "source": [
    "## Why numpy"
   ]
  },
  {
   "cell_type": "code",
   "execution_count": 9,
   "metadata": {
    "button": false,
    "collapsed": false,
    "deletable": true,
    "editable": true,
    "new_sheet": false,
    "run_control": {
     "read_only": false
    }
   },
   "outputs": [
    {
     "name": "stdout",
     "output_type": "stream",
     "text": [
      "[1, 2, 3, 4, 5, 1, 2, 3, 4, 5, 1, 2, 3, 4, 5]\n"
     ]
    },
    {
     "ename": "TypeError",
     "evalue": "bad operand type for abs(): 'list'",
     "output_type": "error",
     "traceback": [
      "\u001b[0;31m---------------------------------------------------------------------------\u001b[0m",
      "\u001b[0;31mTypeError\u001b[0m                                 Traceback (most recent call last)",
      "\u001b[0;32m<ipython-input-9-f7af4a33bc9a>\u001b[0m in \u001b[0;36m<module>\u001b[0;34m()\u001b[0m\n\u001b[1;32m      2\u001b[0m \u001b[0my\u001b[0m \u001b[0;34m=\u001b[0m \u001b[0mx\u001b[0m \u001b[0;34m*\u001b[0m \u001b[0;36m3\u001b[0m\u001b[0;34m\u001b[0m\u001b[0m\n\u001b[1;32m      3\u001b[0m \u001b[0mprint\u001b[0m\u001b[0;34m(\u001b[0m\u001b[0my\u001b[0m\u001b[0;34m)\u001b[0m\u001b[0;34m\u001b[0m\u001b[0m\n\u001b[0;32m----> 4\u001b[0;31m \u001b[0mprint\u001b[0m\u001b[0;34m(\u001b[0m\u001b[0mabs\u001b[0m\u001b[0;34m(\u001b[0m\u001b[0mx\u001b[0m\u001b[0;34m)\u001b[0m\u001b[0;34m)\u001b[0m\u001b[0;34m\u001b[0m\u001b[0m\n\u001b[0m",
      "\u001b[0;31mTypeError\u001b[0m: bad operand type for abs(): 'list'"
     ]
    }
   ],
   "source": [
    "x = [1,2,3,4,5]\n",
    "y = x * 3\n",
    "print(y)\n",
    "print(abs(x))"
   ]
  },
  {
   "cell_type": "markdown",
   "metadata": {
    "button": false,
    "deletable": true,
    "editable": true,
    "new_sheet": false,
    "run_control": {
     "read_only": false
    }
   },
   "source": [
    "## Vectors"
   ]
  },
  {
   "cell_type": "code",
   "execution_count": 23,
   "metadata": {
    "button": false,
    "collapsed": true,
    "deletable": true,
    "editable": true,
    "new_sheet": false,
    "run_control": {
     "read_only": false
    }
   },
   "outputs": [],
   "source": [
    "import numpy as np"
   ]
  },
  {
   "cell_type": "markdown",
   "metadata": {
    "button": false,
    "deletable": true,
    "editable": true,
    "new_sheet": false,
    "run_control": {
     "read_only": false
    }
   },
   "source": [
    "### scalar multiplication"
   ]
  },
  {
   "cell_type": "code",
   "execution_count": 27,
   "metadata": {
    "button": false,
    "collapsed": false,
    "deletable": true,
    "editable": true,
    "new_sheet": false,
    "run_control": {
     "read_only": false
    }
   },
   "outputs": [
    {
     "name": "stdout",
     "output_type": "stream",
     "text": [
      "[ 2  4  6  8 10]\n"
     ]
    }
   ],
   "source": [
    "x = np.array([1,2,3,4,5])\n",
    "y = 2 * x\n",
    "print(y)"
   ]
  },
  {
   "cell_type": "markdown",
   "metadata": {
    "button": false,
    "deletable": true,
    "editable": true,
    "new_sheet": false,
    "run_control": {
     "read_only": false
    }
   },
   "source": [
    "### exponentiation"
   ]
  },
  {
   "cell_type": "code",
   "execution_count": null,
   "metadata": {
    "button": false,
    "collapsed": true,
    "deletable": true,
    "editable": true,
    "new_sheet": false,
    "run_control": {
     "read_only": false
    }
   },
   "outputs": [],
   "source": [
    "x = np.array([1,2,3,4,5])\n",
    "y = x ** 2 # this is element-wise squaring. not a vector dot product.\n",
    "print(y)"
   ]
  },
  {
   "cell_type": "markdown",
   "metadata": {
    "button": false,
    "deletable": true,
    "editable": true,
    "new_sheet": false,
    "run_control": {
     "read_only": false
    }
   },
   "source": [
    "### addition, ones, zeros"
   ]
  },
  {
   "cell_type": "code",
   "execution_count": 32,
   "metadata": {
    "button": false,
    "collapsed": false,
    "deletable": true,
    "editable": true,
    "new_sheet": false,
    "run_control": {
     "read_only": false
    }
   },
   "outputs": [
    {
     "name": "stdout",
     "output_type": "stream",
     "text": [
      "x =  [1 2 3 4 5]\n",
      "y =  [ 1.  1.  1.  1.  1.]\n",
      "z =  [ 0.  0.  0.  0.  0.]\n",
      "x + y + z =  [ 2.  3.  4.  5.  6.]\n"
     ]
    }
   ],
   "source": [
    "x = np.array([1,2,3,4,5])\n",
    "y = np.ones(5)\n",
    "z = np.zeros(5)\n",
    "print('x = ', x)\n",
    "print('y = ', y)\n",
    "print('z = ', z)\n",
    "print('x + y + z = ', x+y+z)"
   ]
  },
  {
   "cell_type": "markdown",
   "metadata": {
    "button": false,
    "deletable": true,
    "editable": true,
    "new_sheet": false,
    "run_control": {
     "read_only": false
    }
   },
   "source": [
    "## Matrices"
   ]
  },
  {
   "cell_type": "markdown",
   "metadata": {
    "button": false,
    "deletable": true,
    "editable": true,
    "new_sheet": false,
    "run_control": {
     "read_only": false
    }
   },
   "source": [
    "### properties"
   ]
  },
  {
   "cell_type": "code",
   "execution_count": 61,
   "metadata": {
    "button": false,
    "collapsed": false,
    "deletable": true,
    "editable": true,
    "new_sheet": false,
    "run_control": {
     "read_only": false
    }
   },
   "outputs": [
    {
     "name": "stdout",
     "output_type": "stream",
     "text": [
      "Matrix A has 12 elements.\n",
      "Matrix A has 2 dimensions.\n",
      "Matrix A has 3 rows and 4 columns.\n"
     ]
    }
   ],
   "source": [
    "A = np.array([[1,2,3,4],\n",
    "              [4,5,6,7],\n",
    "              [7,8,9,10]])\n",
    "\n",
    "print('Matrix A has {} elements.'.format(A.size))\n",
    "print('Matrix A has {} dimensions.'.format(A.ndim))\n",
    "print('Matrix A has {} rows and {} columns.'.format(A.shape[0],A.shape[1]))"
   ]
  },
  {
   "cell_type": "markdown",
   "metadata": {
    "button": false,
    "deletable": true,
    "editable": true,
    "new_sheet": false,
    "run_control": {
     "read_only": false
    }
   },
   "source": [
    "### slicing and access"
   ]
  },
  {
   "cell_type": "code",
   "execution_count": 110,
   "metadata": {
    "button": false,
    "collapsed": false,
    "deletable": true,
    "editable": true,
    "new_sheet": false,
    "run_control": {
     "read_only": false
    }
   },
   "outputs": [
    {
     "name": "stdout",
     "output_type": "stream",
     "text": [
      "True\n",
      "9\n",
      "[[4 5 6]\n",
      " [7 8 9]]\n"
     ]
    }
   ],
   "source": [
    "A = np.array([[1,2,3],\n",
    "              [4,5,6],\n",
    "              [7,8,9]])\n",
    "print(A[2,2] == A[2][2])\n",
    "print(A[2,2])\n",
    "print(A[1:][0:2])"
   ]
  },
  {
   "cell_type": "markdown",
   "metadata": {
    "button": false,
    "deletable": true,
    "editable": true,
    "new_sheet": false,
    "run_control": {
     "read_only": false
    }
   },
   "source": [
    "### linear algebra"
   ]
  },
  {
   "cell_type": "code",
   "execution_count": 46,
   "metadata": {
    "button": false,
    "collapsed": false,
    "deletable": true,
    "editable": true,
    "new_sheet": false,
    "run_control": {
     "read_only": false
    }
   },
   "outputs": [
    {
     "name": "stdout",
     "output_type": "stream",
     "text": [
      "[ 0.05 -1.1   1.05]\n",
      "-9.51619735393e-16\n",
      "[ 1.  1.  1.]\n",
      "15\n",
      "[[1 4 7]\n",
      " [2 5 8]\n",
      " [3 6 9]]\n"
     ]
    }
   ],
   "source": [
    "A = np.array([[1,2,3],\n",
    "              [4,5,6],\n",
    "              [7,8,9]])\n",
    "b = np.ones(3)\n",
    "x = np.linalg.solve(A,b) # solve Ax = b\n",
    "print(x)\n",
    "print(np.linalg.det(A)) # matrix A is invertible!!!\n",
    "print(np.dot(A,x)) # matrix multiplication\n",
    "print(np.trace(A))\n",
    "print(A.T) # transpose matrix A"
   ]
  },
  {
   "cell_type": "markdown",
   "metadata": {
    "button": false,
    "deletable": true,
    "editable": true,
    "new_sheet": false,
    "run_control": {
     "read_only": false
    }
   },
   "source": [
    "### eye, zeros, ones"
   ]
  },
  {
   "cell_type": "code",
   "execution_count": 68,
   "metadata": {
    "button": false,
    "collapsed": false,
    "deletable": true,
    "editable": true,
    "new_sheet": false,
    "run_control": {
     "read_only": false
    }
   },
   "outputs": [
    {
     "name": "stdout",
     "output_type": "stream",
     "text": [
      "[[ 1.  0.  0.  0.]\n",
      " [ 0.  1.  0.  0.]\n",
      " [ 0.  0.  1.  0.]\n",
      " [ 0.  0.  0.  1.]]\n",
      "\n",
      "[[ 0.  0.  0.  0.  0.]\n",
      " [ 0.  0.  0.  0.  0.]\n",
      " [ 0.  0.  0.  0.  0.]]\n",
      "\n",
      "[[ 1.  1.]\n",
      " [ 1.  1.]\n",
      " [ 1.  1.]\n",
      " [ 1.  1.]\n",
      " [ 1.  1.]]\n"
     ]
    }
   ],
   "source": [
    "print(np.eye(4))\n",
    "print()\n",
    "print(np.zeros([3,5]))\n",
    "print()\n",
    "print(np.ones([5,2]))"
   ]
  },
  {
   "cell_type": "markdown",
   "metadata": {
    "button": false,
    "deletable": true,
    "editable": true,
    "new_sheet": false,
    "run_control": {
     "read_only": false
    }
   },
   "source": [
    "## Random numbers"
   ]
  },
  {
   "cell_type": "code",
   "execution_count": 95,
   "metadata": {
    "button": false,
    "collapsed": false,
    "deletable": true,
    "editable": true,
    "new_sheet": false,
    "run_control": {
     "read_only": false
    }
   },
   "outputs": [
    {
     "name": "stdout",
     "output_type": "stream",
     "text": [
      "[ 0.18062138  0.76486838  0.26031831  0.15869939  0.07626052]\n",
      "\n",
      "[[ 55.59684534  67.0250948    0.75842515  90.65517843  46.02246132]\n",
      " [ 64.09606509   3.89079665  96.64264321  70.47692372  26.72384344]\n",
      " [ 74.91299167  73.72815726  35.48992086  71.64772122  64.26890924]\n",
      " [ 93.21755304  17.41206562  21.77924252  12.15985851  80.01351017]\n",
      " [ 87.44233508  32.29201965  75.59280728  33.21899306  78.92166788]]\n"
     ]
    }
   ],
   "source": [
    "x = np.random.rand(5)\n",
    "print(x)\n",
    "print()\n",
    "\n",
    "A = np.random.rand(5,5) * 100\n",
    "print(A)"
   ]
  },
  {
   "cell_type": "markdown",
   "metadata": {
    "button": false,
    "deletable": true,
    "editable": true,
    "new_sheet": false,
    "run_control": {
     "read_only": false
    }
   },
   "source": [
    "## Statistical functions on matrices"
   ]
  },
  {
   "cell_type": "code",
   "execution_count": 97,
   "metadata": {
    "button": false,
    "collapsed": false,
    "deletable": true,
    "editable": true,
    "new_sheet": false,
    "run_control": {
     "read_only": false
    }
   },
   "outputs": [
    {
     "name": "stdout",
     "output_type": "stream",
     "text": [
      "45.8765069775\n",
      "27.6405196193\n",
      "[[ 1.         -0.80071041 -0.47555239 -0.27740181  0.23139051]\n",
      " [-0.80071041  1.          0.5424405   0.04952302 -0.05838888]\n",
      " [-0.47555239  0.5424405   1.          0.6464318  -0.43728242]\n",
      " [-0.27740181  0.04952302  0.6464318   1.          0.03441625]\n",
      " [ 0.23139051 -0.05838888 -0.43728242  0.03441625  1.        ]]\n"
     ]
    }
   ],
   "source": [
    "A = np.random.rand(5,5) * 100\n",
    "print(np.mean(A))\n",
    "print(np.std(A))\n",
    "print(np.corrcoef(A)) # correlation matrix. notice symmetry and ones on diagonal."
   ]
  },
  {
   "cell_type": "markdown",
   "metadata": {
    "button": false,
    "deletable": true,
    "editable": true,
    "new_sheet": false,
    "run_control": {
     "read_only": false
    }
   },
   "source": [
    "## Boolean indexing"
   ]
  },
  {
   "cell_type": "code",
   "execution_count": 103,
   "metadata": {
    "button": false,
    "collapsed": false,
    "deletable": true,
    "editable": true,
    "new_sheet": false,
    "run_control": {
     "read_only": false
    }
   },
   "outputs": [
    {
     "name": "stdout",
     "output_type": "stream",
     "text": [
      "[ True False  True False  True False  True False  True False]\n",
      "[0 2 4 6 8]\n"
     ]
    }
   ],
   "source": [
    "x = np.arange(0,10) # same as range(), but outputs a numpy array instead\n",
    "evens_mask = x % 2 == 0\n",
    "print(evens_mask)\n",
    "\n",
    "x = x[evens_mask]\n",
    "print(x)"
   ]
  },
  {
   "cell_type": "code",
   "execution_count": 107,
   "metadata": {
    "button": false,
    "collapsed": false,
    "deletable": true,
    "editable": true,
    "new_sheet": false,
    "run_control": {
     "read_only": false
    }
   },
   "outputs": [
    {
     "name": "stdout",
     "output_type": "stream",
     "text": [
      "[[  6.3419273   56.7714717   88.77646064  85.26949985  37.48361104]\n",
      " [ 82.86608988  51.00313014  78.76775195  49.23204167  88.07764042]\n",
      " [ 34.25006613  56.58588492  11.85752293  96.77191792  62.26849047]\n",
      " [ 83.67659206   3.23357091  92.52537782  88.20532745   9.07609726]\n",
      " [ 67.10516923  84.18819469  65.39884803  24.75186787   0.431724  ]]\n",
      "\n",
      "[ 88.77646064  85.26949985  82.86608988  78.76775195  88.07764042\n",
      "  96.77191792  83.67659206  92.52537782  88.20532745  84.18819469]\n"
     ]
    }
   ],
   "source": [
    "A = np.random.rand(5,5) * 100\n",
    "print(A)\n",
    "print()\n",
    "\n",
    "print(A[A > 75])"
   ]
  },
  {
   "cell_type": "markdown",
   "metadata": {},
   "source": [
    "## Logical operators for arrays"
   ]
  },
  {
   "cell_type": "code",
   "execution_count": 27,
   "metadata": {
    "collapsed": false
   },
   "outputs": [
    {
     "name": "stdout",
     "output_type": "stream",
     "text": [
      "False \n",
      "\n"
     ]
    },
    {
     "ename": "ValueError",
     "evalue": "The truth value of an array with more than one element is ambiguous. Use a.any() or a.all()",
     "output_type": "error",
     "traceback": [
      "\u001b[0;31m---------------------------------------------------------------------------\u001b[0m",
      "\u001b[0;31mValueError\u001b[0m                                Traceback (most recent call last)",
      "\u001b[0;32m<ipython-input-27-f66d32a99ad8>\u001b[0m in \u001b[0;36m<module>\u001b[0;34m()\u001b[0m\n\u001b[1;32m      2\u001b[0m \u001b[0;34m\u001b[0m\u001b[0m\n\u001b[1;32m      3\u001b[0m \u001b[0mbools\u001b[0m \u001b[0;34m=\u001b[0m \u001b[0mnp\u001b[0m\u001b[0;34m.\u001b[0m\u001b[0marray\u001b[0m\u001b[0;34m(\u001b[0m\u001b[0;34m[\u001b[0m\u001b[0;32mFalse\u001b[0m\u001b[0;34m,\u001b[0m \u001b[0;32mTrue\u001b[0m\u001b[0;34m,\u001b[0m \u001b[0;32mFalse\u001b[0m\u001b[0;34m]\u001b[0m\u001b[0;34m)\u001b[0m\u001b[0;34m\u001b[0m\u001b[0m\n\u001b[0;32m----> 4\u001b[0;31m \u001b[0mprint\u001b[0m\u001b[0;34m(\u001b[0m\u001b[0;32mnot\u001b[0m \u001b[0mbools\u001b[0m\u001b[0;34m)\u001b[0m\u001b[0;34m\u001b[0m\u001b[0m\n\u001b[0m",
      "\u001b[0;31mValueError\u001b[0m: The truth value of an array with more than one element is ambiguous. Use a.any() or a.all()"
     ]
    }
   ],
   "source": [
    "print(not True, '\\n')\n",
    "\n",
    "bools = np.array([False, True, False])\n",
    "print(not bools)"
   ]
  },
  {
   "cell_type": "code",
   "execution_count": 32,
   "metadata": {
    "collapsed": false
   },
   "outputs": [
    {
     "name": "stdout",
     "output_type": "stream",
     "text": [
      "[False  True False]\n",
      "[ True False  True]\n",
      "[ True False  True]\n"
     ]
    }
   ],
   "source": [
    "print(bools)\n",
    "print(np.logical_not(bools))\n",
    "print(~bools)"
   ]
  },
  {
   "cell_type": "code",
   "execution_count": 35,
   "metadata": {
    "collapsed": false
   },
   "outputs": [
    {
     "name": "stdout",
     "output_type": "stream",
     "text": [
      "[False  True False]\n",
      "[ True  True  True]\n",
      "[False False False]\n"
     ]
    }
   ],
   "source": [
    "print(bools)\n",
    "print(bools | True)\n",
    "print(bools & False)"
   ]
  },
  {
   "cell_type": "code",
   "execution_count": 45,
   "metadata": {
    "collapsed": false
   },
   "outputs": [
    {
     "name": "stdout",
     "output_type": "stream",
     "text": [
      "[  67.   64.  108. -230.  114.   26.  -56.  136.  101.  -14. -223. -184.\n",
      "  -16.  -56. -117.   68. -122.    6.  119.  -52. -220. -109. -130.   55.\n",
      "   78.  101.  -35.    6.  155.   88.   30.  -37.  -29.  -60.  202.  -40.\n",
      "   24.  -18.  189.  -25.  -32.   34.  132.  -96.   41. -227.   33.    9.\n",
      "   21.   14.  -80.  -11.  -32.   45.  152.  -92. -246.   92.  -78.   51.\n",
      "   43.  -86.    8.  -71.   11.   74.   41.  -35.  -11.   86. -118.   65.\n",
      " -145.   86. -128.  214.  -20.  -50. -131. -101.  104.  -96.  -64.  169.\n",
      "  -88.   33.  -80.   51.  -56.  -41.  -93.  -23.  139.   46.  142.  -17.\n",
      "   33.  -63.   16.   11.] \n",
      "\n",
      "[-223. -117. -109.  -35.  -37.  -29.  -25. -227.  -11.  -71.  -35.  -11.\n",
      " -145. -131. -101.  -41.  -93.  -23.  -17.  -63.] \n",
      "\n",
      "[  67. -230.  -56.  101.  -14. -223. -184.  -16.  -56. -117. -122.  119.\n",
      "  -52. -220. -109. -130.   55.  101.  -35.  155.  -37.  -29.  -60.  -40.\n",
      "  -18.  189.  -25.  -32.  -96.   41. -227.   33.    9.   21.  -80.  -11.\n",
      "  -32.   45.  -92. -246.  -78.   51.   43.  -86.  -71.   11.   41.  -35.\n",
      "  -11. -118.   65. -145. -128.  -20.  -50. -131. -101.  -96.  -64.  169.\n",
      "  -88.   33.  -80.   51.  -56.  -41.  -93.  -23.  139.  -17.   33.  -63.\n",
      "   11.]\n"
     ]
    }
   ],
   "source": [
    "x = np.random.randn(100) * 100 // 1\n",
    "print(x, '\\n')\n",
    "\n",
    "# print all negative odd numbers\n",
    "print(x[np.logical_and(x < 0, x % 2)], '\\n')\n",
    "\n",
    "# print any negative or odd numbers\n",
    "print(x[(x < 0) | (x % 2 == 1)])"
   ]
  },
  {
   "cell_type": "code",
   "execution_count": null,
   "metadata": {
    "collapsed": true
   },
   "outputs": [],
   "source": []
  }
 ],
 "metadata": {
  "kernelspec": {
   "display_name": "Python [default]",
   "language": "python",
   "name": "python3"
  },
  "language_info": {
   "codemirror_mode": {
    "name": "ipython",
    "version": 3
   },
   "file_extension": ".py",
   "mimetype": "text/x-python",
   "name": "python",
   "nbconvert_exporter": "python",
   "pygments_lexer": "ipython3",
   "version": "3.5.2"
  }
 },
 "nbformat": 4,
 "nbformat_minor": 0
}
