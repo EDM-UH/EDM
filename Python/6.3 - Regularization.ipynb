{
 "cells": [
  {
   "cell_type": "markdown",
   "metadata": {},
   "source": [
    "# 6.3 - Regularization"
   ]
  },
  {
   "cell_type": "code",
   "execution_count": 2,
   "metadata": {
    "collapsed": true,
    "deletable": true,
    "editable": true
   },
   "outputs": [],
   "source": [
    "import numpy as np\n",
    "import pandas as pd\n",
    "\n",
    "%matplotlib inline"
   ]
  },
  {
   "cell_type": "code",
   "execution_count": 4,
   "metadata": {
    "collapsed": false,
    "deletable": true,
    "editable": true
   },
   "outputs": [],
   "source": [
    "grades = pd.read_csv('grades_cleaned_20170520.csv')"
   ]
  },
  {
   "cell_type": "code",
   "execution_count": 6,
   "metadata": {
    "collapsed": false
   },
   "outputs": [
    {
     "data": {
      "text/html": [
       "<div>\n",
       "<table border=\"1\" class=\"dataframe\">\n",
       "  <thead>\n",
       "    <tr style=\"text-align: right;\">\n",
       "      <th></th>\n",
       "      <th>0119_attend</th>\n",
       "      <th>0119_quiz_class</th>\n",
       "      <th>0123_quiz1</th>\n",
       "      <th>0126_attend</th>\n",
       "      <th>0127_quiz2</th>\n",
       "      <th>0201_homework0</th>\n",
       "      <th>0201_quiz3</th>\n",
       "      <th>0202_attend</th>\n",
       "      <th>0202_millionaire</th>\n",
       "      <th>0203_quiz5</th>\n",
       "      <th>...</th>\n",
       "      <th>0411_attend</th>\n",
       "      <th>0413_attend</th>\n",
       "      <th>0413_quiz_class</th>\n",
       "      <th>0415_homework4</th>\n",
       "      <th>0430_homework5</th>\n",
       "      <th>0509_final_exam</th>\n",
       "      <th>0510_extra</th>\n",
       "      <th>0510_group</th>\n",
       "      <th>total_sum</th>\n",
       "      <th>total_weighted</th>\n",
       "    </tr>\n",
       "  </thead>\n",
       "  <tbody>\n",
       "    <tr>\n",
       "      <th>0</th>\n",
       "      <td>0</td>\n",
       "      <td>0</td>\n",
       "      <td>NaN</td>\n",
       "      <td>1</td>\n",
       "      <td>NaN</td>\n",
       "      <td>100</td>\n",
       "      <td>NaN</td>\n",
       "      <td>1</td>\n",
       "      <td>7.5</td>\n",
       "      <td>NaN</td>\n",
       "      <td>...</td>\n",
       "      <td>0</td>\n",
       "      <td>0</td>\n",
       "      <td>0</td>\n",
       "      <td>0</td>\n",
       "      <td>0</td>\n",
       "      <td>0</td>\n",
       "      <td>0</td>\n",
       "      <td>0.0</td>\n",
       "      <td>306.5</td>\n",
       "      <td>25.23</td>\n",
       "    </tr>\n",
       "    <tr>\n",
       "      <th>1</th>\n",
       "      <td>0</td>\n",
       "      <td>0</td>\n",
       "      <td>98.0</td>\n",
       "      <td>1</td>\n",
       "      <td>94.0</td>\n",
       "      <td>100</td>\n",
       "      <td>100.0</td>\n",
       "      <td>1</td>\n",
       "      <td>5.7</td>\n",
       "      <td>100.0</td>\n",
       "      <td>...</td>\n",
       "      <td>0</td>\n",
       "      <td>1</td>\n",
       "      <td>67</td>\n",
       "      <td>100</td>\n",
       "      <td>100</td>\n",
       "      <td>50</td>\n",
       "      <td>0</td>\n",
       "      <td>40.0</td>\n",
       "      <td>1287.7</td>\n",
       "      <td>58.80</td>\n",
       "    </tr>\n",
       "    <tr>\n",
       "      <th>2</th>\n",
       "      <td>1</td>\n",
       "      <td>4</td>\n",
       "      <td>96.0</td>\n",
       "      <td>1</td>\n",
       "      <td>98.0</td>\n",
       "      <td>100</td>\n",
       "      <td>96.0</td>\n",
       "      <td>1</td>\n",
       "      <td>7.8</td>\n",
       "      <td>94.0</td>\n",
       "      <td>...</td>\n",
       "      <td>0</td>\n",
       "      <td>1</td>\n",
       "      <td>77</td>\n",
       "      <td>90</td>\n",
       "      <td>100</td>\n",
       "      <td>86</td>\n",
       "      <td>0</td>\n",
       "      <td>80.0</td>\n",
       "      <td>1440.8</td>\n",
       "      <td>70.80</td>\n",
       "    </tr>\n",
       "    <tr>\n",
       "      <th>3</th>\n",
       "      <td>0</td>\n",
       "      <td>0</td>\n",
       "      <td>96.0</td>\n",
       "      <td>0</td>\n",
       "      <td>96.0</td>\n",
       "      <td>100</td>\n",
       "      <td>98.0</td>\n",
       "      <td>0</td>\n",
       "      <td>0.0</td>\n",
       "      <td>94.0</td>\n",
       "      <td>...</td>\n",
       "      <td>0</td>\n",
       "      <td>1</td>\n",
       "      <td>50</td>\n",
       "      <td>100</td>\n",
       "      <td>100</td>\n",
       "      <td>76</td>\n",
       "      <td>1</td>\n",
       "      <td>40.0</td>\n",
       "      <td>1413.0</td>\n",
       "      <td>81.53</td>\n",
       "    </tr>\n",
       "    <tr>\n",
       "      <th>4</th>\n",
       "      <td>1</td>\n",
       "      <td>1</td>\n",
       "      <td>88.0</td>\n",
       "      <td>1</td>\n",
       "      <td>90.0</td>\n",
       "      <td>100</td>\n",
       "      <td>90.0</td>\n",
       "      <td>1</td>\n",
       "      <td>3.5</td>\n",
       "      <td>82.0</td>\n",
       "      <td>...</td>\n",
       "      <td>1</td>\n",
       "      <td>1</td>\n",
       "      <td>117</td>\n",
       "      <td>100</td>\n",
       "      <td>90</td>\n",
       "      <td>72</td>\n",
       "      <td>0</td>\n",
       "      <td>100.0</td>\n",
       "      <td>1323.5</td>\n",
       "      <td>70.54</td>\n",
       "    </tr>\n",
       "  </tbody>\n",
       "</table>\n",
       "<p>5 rows × 35 columns</p>\n",
       "</div>"
      ],
      "text/plain": [
       "   0119_attend  0119_quiz_class  0123_quiz1  0126_attend  0127_quiz2  \\\n",
       "0            0                0         NaN            1         NaN   \n",
       "1            0                0        98.0            1        94.0   \n",
       "2            1                4        96.0            1        98.0   \n",
       "3            0                0        96.0            0        96.0   \n",
       "4            1                1        88.0            1        90.0   \n",
       "\n",
       "   0201_homework0  0201_quiz3  0202_attend  0202_millionaire  0203_quiz5  \\\n",
       "0             100         NaN            1               7.5         NaN   \n",
       "1             100       100.0            1               5.7       100.0   \n",
       "2             100        96.0            1               7.8        94.0   \n",
       "3             100        98.0            0               0.0        94.0   \n",
       "4             100        90.0            1               3.5        82.0   \n",
       "\n",
       "        ...        0411_attend  0413_attend  0413_quiz_class  0415_homework4  \\\n",
       "0       ...                  0            0                0               0   \n",
       "1       ...                  0            1               67             100   \n",
       "2       ...                  0            1               77              90   \n",
       "3       ...                  0            1               50             100   \n",
       "4       ...                  1            1              117             100   \n",
       "\n",
       "   0430_homework5  0509_final_exam  0510_extra  0510_group  total_sum  \\\n",
       "0               0                0           0         0.0      306.5   \n",
       "1             100               50           0        40.0     1287.7   \n",
       "2             100               86           0        80.0     1440.8   \n",
       "3             100               76           1        40.0     1413.0   \n",
       "4              90               72           0       100.0     1323.5   \n",
       "\n",
       "   total_weighted  \n",
       "0           25.23  \n",
       "1           58.80  \n",
       "2           70.80  \n",
       "3           81.53  \n",
       "4           70.54  \n",
       "\n",
       "[5 rows x 35 columns]"
      ]
     },
     "execution_count": 6,
     "metadata": {},
     "output_type": "execute_result"
    }
   ],
   "source": [
    "grades.head()"
   ]
  },
  {
   "cell_type": "code",
   "execution_count": 9,
   "metadata": {
    "collapsed": true
   },
   "outputs": [],
   "source": [
    "from sklearn.linear_model import Ridge\n",
    "from sklearn.metrics import mean_squared_error\n",
    "from sklearn.cross_validation import cross_val_score\n",
    "from sklearn.model_selection import train_test_split"
   ]
  },
  {
   "cell_type": "code",
   "execution_count": 16,
   "metadata": {
    "collapsed": false
   },
   "outputs": [
    {
     "name": "stdout",
     "output_type": "stream",
     "text": [
      "4.98370389103e-05\n"
     ]
    }
   ],
   "source": [
    "hasnull = grades.isnull().sum() > 1\n",
    "\n",
    "X = grades.drop(['total_sum', 'total_weighted'], axis = 1)\n",
    "X = grades.loc[:,~hasnull]\n",
    "y = grades['total_weighted']\n",
    "\n",
    "X_train, X_test, y_train, y_test = train_test_split(X, y, test_size = 0.3)\n",
    "\n",
    "ridge = Ridge()\n",
    "\n",
    "ridge.fit(X_train, y_train)\n",
    "y_train_pred = ridge.predict(X_train)\n",
    "print(mean_squared_error(y_train, y_train_pred))"
   ]
  },
  {
   "cell_type": "code",
   "execution_count": 23,
   "metadata": {
    "collapsed": false
   },
   "outputs": [
    {
     "name": "stdout",
     "output_type": "stream",
     "text": [
      "-0.000275810291931\n"
     ]
    }
   ],
   "source": [
    "print(cross_val_score(ridge, X_train, y_train, cv = 5, scoring = 'neg_mean_squared_error').mean())"
   ]
  },
  {
   "cell_type": "code",
   "execution_count": null,
   "metadata": {
    "collapsed": true
   },
   "outputs": [],
   "source": []
  }
 ],
 "metadata": {
  "anaconda-cloud": {},
  "kernelspec": {
   "display_name": "Python [conda root]",
   "language": "python",
   "name": "conda-root-py"
  },
  "language_info": {
   "codemirror_mode": {
    "name": "ipython",
    "version": 3
   },
   "file_extension": ".py",
   "mimetype": "text/x-python",
   "name": "python",
   "nbconvert_exporter": "python",
   "pygments_lexer": "ipython3",
   "version": "3.5.2"
  }
 },
 "nbformat": 4,
 "nbformat_minor": 1
}
