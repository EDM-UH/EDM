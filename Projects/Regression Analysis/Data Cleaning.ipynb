{
 "cells": [
  {
   "cell_type": "code",
   "execution_count": 2,
   "metadata": {
    "button": false,
    "collapsed": false,
    "deletable": true,
    "editable": true,
    "new_sheet": false,
    "run_control": {
     "read_only": false
    }
   },
   "outputs": [],
   "source": [
    "import pandas as pd\n",
    "import numpy as np\n",
    "import seaborn as sns\n",
    "import matplotlib.pyplot as plt\n",
    "\n",
    "pd.options.display.max_columns = 50\n",
    "%matplotlib inline"
   ]
  },
  {
   "cell_type": "markdown",
   "metadata": {
    "button": false,
    "deletable": true,
    "editable": true,
    "new_sheet": false,
    "run_control": {
     "read_only": false
    }
   },
   "source": [
    "# Read from excel file\n",
    "There are 132 students each with 32 features."
   ]
  },
  {
   "cell_type": "code",
   "execution_count": 3,
   "metadata": {
    "button": false,
    "collapsed": false,
    "deletable": true,
    "editable": true,
    "new_sheet": false,
    "run_control": {
     "read_only": false
    }
   },
   "outputs": [
    {
     "data": {
      "text/plain": [
       "(132, 32)"
      ]
     },
     "execution_count": 3,
     "metadata": {},
     "output_type": "execute_result"
    }
   ],
   "source": [
    "grades = pd.read_excel('data/grades.xlsx')\n",
    "grades.shape"
   ]
  },
  {
   "cell_type": "markdown",
   "metadata": {
    "button": false,
    "deletable": true,
    "editable": true,
    "new_sheet": false,
    "run_control": {
     "read_only": false
    }
   },
   "source": [
    "# Rename column names so that they can be easily ordered chronologically"
   ]
  },
  {
   "cell_type": "code",
   "execution_count": 4,
   "metadata": {
    "button": false,
    "collapsed": false,
    "deletable": true,
    "editable": true,
    "new_sheet": false,
    "run_control": {
     "read_only": false
    }
   },
   "outputs": [
    {
     "data": {
      "text/plain": [
       "Index(['Weighted Total [Total Pts: up to 98.87977] |936265',\n",
       "       'Total [Total Pts: up to 2,223.2] |936264',\n",
       "       'Quiz One [Total Pts: 100] |936268',\n",
       "       'Quiz Two [Total Pts: 100] |936269',\n",
       "       'Quiz Three [Total Pts: 100] |936270',\n",
       "       'Quiz Five [Total Pts: 100] |936272',\n",
       "       'Quiz Six [Total Pts: 100] |936273',\n",
       "       'Quiz Seven [Total Pts: 100] |954832',\n",
       "       'Quiz Eight [Total Pts: 100] |960233',\n",
       "       '26970trial1-19-2017 1-19 PM [Total Pts: 5] |943018',\n",
       "       'att2-2-2017 1-23 PM [Total Pts: 10.7] |949083',\n",
       "       'quiz4-13-2017 1-24 PM [Total Pts: 120] |992380',\n",
       "       'att1-26-2017 1-10 PM [Total Pts: 1] |944789',\n",
       "       'att3-7-2017 1-14 PM [Total Pts: 1] |978329',\n",
       "       'att2-7-2017 1-06 PM [Total Pts: 1] |953856',\n",
       "       'att2-9-2017 1-42 PM [Total Pts: 1] |953857',\n",
       "       'att2-14-2017 1-05 PM [Total Pts: 1] |953858',\n",
       "       'att2-16-2017 1-11 PM [Total Pts: 1] |953859',\n",
       "       'att3-30-2017 1-17 PM [Total Pts: 1] |978345',\n",
       "       'att4-6-2017 5-26 PM [Total Pts: 1] |978346',\n",
       "       'att4-11-2017 1-08 PM [Total Pts: 1] |992379',\n",
       "       'Exam1_0221 [Total Pts: 100] |954963',\n",
       "       'Homework0 [Total Pts: 100] |946260',\n",
       "       'Homework1 [Total Pts: 100] |951550',\n",
       "       'Homework2 [Total Pts: 100] |974290',\n",
       "       'Homework3 [Total Pts: 100] |974242',\n",
       "       'Homework4 [Total Pts: 100] |995428',\n",
       "       'Homework5 [Total Pts: 100] |995429', 'exam2w [Total Pts: 100] |997536',\n",
       "       'Group Assignments [Total Pts: 100] |997421',\n",
       "       'Final Exam [Total Pts: 100] |997533',\n",
       "       'Extra [Total Pts: 20] |1003419'],\n",
       "      dtype='object')"
      ]
     },
     "execution_count": 4,
     "metadata": {},
     "output_type": "execute_result"
    }
   ],
   "source": [
    "grades.columns"
   ]
  },
  {
   "cell_type": "code",
   "execution_count": 5,
   "metadata": {
    "button": false,
    "collapsed": false,
    "deletable": true,
    "editable": true,
    "new_sheet": false,
    "run_control": {
     "read_only": false
    }
   },
   "outputs": [],
   "source": [
    "quiz_bb = ['0123_quiz1','0127_quiz2','0201_quiz3','0203_quiz5','0209_quiz6',\n",
    "        '0301_quiz7','0327_quiz8']\n",
    "homework = ['0201_homework0','0213_homework1','0315_homework2','0402_homework3','0415_homework4','0430_homework5']\n",
    "totals = ['total_weighted','total_sum']\n",
    "all_features = totals + quiz_bb + ['0119_quiz_class','0202_millionaire','0413_quiz_class','0126_attend',\n",
    "                                   '0307_attend','0207_attend','0209_attend','0214_attend','0216_attend',\n",
    "                                   '0330_attend','0406_attend','0411_attend','0304_exam1'] + homework + \\\n",
    "                                    ['0404_exam2','0510_group','0509_final_exam','0510_extra']\n",
    "grades.columns = all_features\n",
    "all_features.sort()\n",
    "grades = grades[all_features]"
   ]
  },
  {
   "cell_type": "markdown",
   "metadata": {
    "button": false,
    "deletable": true,
    "editable": true,
    "new_sheet": false,
    "run_control": {
     "read_only": false
    }
   },
   "source": [
    "# All data should be numeric. Let's find those columns with 'object' data types and process them."
   ]
  },
  {
   "cell_type": "code",
   "execution_count": 6,
   "metadata": {
    "button": false,
    "collapsed": false,
    "deletable": true,
    "editable": true,
    "new_sheet": false,
    "run_control": {
     "read_only": false
    }
   },
   "outputs": [
    {
     "name": "stdout",
     "output_type": "stream",
     "text": [
      "<class 'pandas.core.frame.DataFrame'>\n",
      "RangeIndex: 132 entries, 0 to 131\n",
      "Data columns (total 32 columns):\n",
      "0119_quiz_class     117 non-null float64\n",
      "0123_quiz1          103 non-null float64\n",
      "0126_attend         127 non-null float64\n",
      "0127_quiz2          84 non-null float64\n",
      "0201_homework0      132 non-null int64\n",
      "0201_quiz3          74 non-null float64\n",
      "0202_millionaire    125 non-null float64\n",
      "0203_quiz5          68 non-null float64\n",
      "0207_attend         131 non-null float64\n",
      "0209_attend         132 non-null int64\n",
      "0209_quiz6          69 non-null object\n",
      "0213_homework1      132 non-null int64\n",
      "0214_attend         131 non-null float64\n",
      "0216_attend         131 non-null float64\n",
      "0301_quiz7          55 non-null object\n",
      "0304_exam1          132 non-null float64\n",
      "0307_attend         130 non-null float64\n",
      "0315_homework2      132 non-null int64\n",
      "0327_quiz8          54 non-null object\n",
      "0330_attend         131 non-null float64\n",
      "0402_homework3      132 non-null int64\n",
      "0404_exam2          132 non-null int64\n",
      "0406_attend         131 non-null float64\n",
      "0411_attend         131 non-null float64\n",
      "0413_quiz_class     130 non-null float64\n",
      "0415_homework4      132 non-null int64\n",
      "0430_homework5      132 non-null int64\n",
      "0509_final          132 non-null int64\n",
      "0510_extra          31 non-null float64\n",
      "0510_group          132 non-null float64\n",
      "total_sum           132 non-null float64\n",
      "total_weighted      132 non-null float64\n",
      "dtypes: float64(20), int64(9), object(3)\n",
      "memory usage: 33.1+ KB\n"
     ]
    }
   ],
   "source": [
    "grades.info()"
   ]
  },
  {
   "cell_type": "code",
   "execution_count": 7,
   "metadata": {
    "button": false,
    "collapsed": false,
    "deletable": true,
    "editable": true,
    "new_sheet": false,
    "run_control": {
     "read_only": false
    }
   },
   "outputs": [
    {
     "data": {
      "text/html": [
       "<div>\n",
       "<table border=\"1\" class=\"dataframe\">\n",
       "  <thead>\n",
       "    <tr style=\"text-align: right;\">\n",
       "      <th></th>\n",
       "      <th>0209_quiz6</th>\n",
       "      <th>0301_quiz7</th>\n",
       "      <th>0327_quiz8</th>\n",
       "    </tr>\n",
       "  </thead>\n",
       "  <tbody>\n",
       "    <tr>\n",
       "      <th>0</th>\n",
       "      <td>NaN</td>\n",
       "      <td>NaN</td>\n",
       "      <td>NaN</td>\n",
       "    </tr>\n",
       "    <tr>\n",
       "      <th>1</th>\n",
       "      <td>78</td>\n",
       "      <td>NaN</td>\n",
       "      <td>NaN</td>\n",
       "    </tr>\n",
       "    <tr>\n",
       "      <th>2</th>\n",
       "      <td>90</td>\n",
       "      <td>88</td>\n",
       "      <td>94</td>\n",
       "    </tr>\n",
       "    <tr>\n",
       "      <th>3</th>\n",
       "      <td>In Progress</td>\n",
       "      <td>NaN</td>\n",
       "      <td>NaN</td>\n",
       "    </tr>\n",
       "    <tr>\n",
       "      <th>4</th>\n",
       "      <td>92</td>\n",
       "      <td>In Progress</td>\n",
       "      <td>NaN</td>\n",
       "    </tr>\n",
       "  </tbody>\n",
       "</table>\n",
       "</div>"
      ],
      "text/plain": [
       "    0209_quiz6   0301_quiz7 0327_quiz8\n",
       "0          NaN          NaN        NaN\n",
       "1           78          NaN        NaN\n",
       "2           90           88         94\n",
       "3  In Progress          NaN        NaN\n",
       "4           92  In Progress        NaN"
      ]
     },
     "execution_count": 7,
     "metadata": {},
     "output_type": "execute_result"
    }
   ],
   "source": [
    "grades.select_dtypes(include = [object]).head()"
   ]
  },
  {
   "cell_type": "markdown",
   "metadata": {
    "button": false,
    "deletable": true,
    "editable": true,
    "new_sheet": false,
    "run_control": {
     "read_only": false
    }
   },
   "source": [
    "### Replace 'In Progress' with NaN and convert columns to float"
   ]
  },
  {
   "cell_type": "code",
   "execution_count": 8,
   "metadata": {
    "button": false,
    "collapsed": false,
    "deletable": true,
    "editable": true,
    "new_sheet": false,
    "run_control": {
     "read_only": false
    }
   },
   "outputs": [],
   "source": [
    "grades = grades.applymap(lambda x: np.nan if x == 'In Progress' else x)\n",
    "grades['0209_quiz6'] = grades['0209_quiz6'].astype(float)\n",
    "grades['0301_quiz7'] = grades['0301_quiz7'].astype(float)\n",
    "grades['0327_quiz8'] = grades['0327_quiz8'].astype(float)"
   ]
  },
  {
   "cell_type": "markdown",
   "metadata": {
    "button": false,
    "deletable": true,
    "editable": true,
    "new_sheet": false,
    "run_control": {
     "read_only": false
    }
   },
   "source": [
    "# There are 132 students. For quizzes, which were optional, it makes sense to have NaN values. For everything else, missing values should be treated as 0's."
   ]
  },
  {
   "cell_type": "code",
   "execution_count": 9,
   "metadata": {
    "button": false,
    "collapsed": false,
    "deletable": true,
    "editable": true,
    "new_sheet": false,
    "run_control": {
     "read_only": false
    }
   },
   "outputs": [
    {
     "name": "stdout",
     "output_type": "stream",
     "text": [
      "<class 'pandas.core.frame.DataFrame'>\n",
      "RangeIndex: 132 entries, 0 to 131\n",
      "Data columns (total 32 columns):\n",
      "0119_quiz_class     117 non-null float64\n",
      "0123_quiz1          103 non-null float64\n",
      "0126_attend         127 non-null float64\n",
      "0127_quiz2          84 non-null float64\n",
      "0201_homework0      132 non-null int64\n",
      "0201_quiz3          74 non-null float64\n",
      "0202_millionaire    125 non-null float64\n",
      "0203_quiz5          68 non-null float64\n",
      "0207_attend         131 non-null float64\n",
      "0209_attend         132 non-null int64\n",
      "0209_quiz6          66 non-null float64\n",
      "0213_homework1      132 non-null int64\n",
      "0214_attend         131 non-null float64\n",
      "0216_attend         131 non-null float64\n",
      "0301_quiz7          54 non-null float64\n",
      "0304_exam1          132 non-null float64\n",
      "0307_attend         130 non-null float64\n",
      "0315_homework2      132 non-null int64\n",
      "0327_quiz8          53 non-null float64\n",
      "0330_attend         131 non-null float64\n",
      "0402_homework3      132 non-null int64\n",
      "0404_exam2          132 non-null int64\n",
      "0406_attend         131 non-null float64\n",
      "0411_attend         131 non-null float64\n",
      "0413_quiz_class     130 non-null float64\n",
      "0415_homework4      132 non-null int64\n",
      "0430_homework5      132 non-null int64\n",
      "0509_final          132 non-null int64\n",
      "0510_extra          31 non-null float64\n",
      "0510_group          132 non-null float64\n",
      "total_sum           132 non-null float64\n",
      "total_weighted      132 non-null float64\n",
      "dtypes: float64(23), int64(9)\n",
      "memory usage: 33.1 KB\n"
     ]
    }
   ],
   "source": [
    "grades.info()"
   ]
  },
  {
   "cell_type": "code",
   "execution_count": 10,
   "metadata": {
    "button": false,
    "collapsed": false,
    "deletable": true,
    "editable": true,
    "new_sheet": false,
    "run_control": {
     "read_only": false
    }
   },
   "outputs": [],
   "source": [
    "contains_null = grades.isnull().sum() > 0\n",
    "non_quiz = ~(grades.columns.str.contains(r'quiz\\d+'))\n",
    "grades.loc[:,contains_null & non_quiz] = grades.loc[:,contains_null & non_quiz].fillna(0)"
   ]
  },
  {
   "cell_type": "code",
   "execution_count": 11,
   "metadata": {
    "button": false,
    "collapsed": false,
    "deletable": true,
    "editable": true,
    "new_sheet": false,
    "run_control": {
     "read_only": false
    }
   },
   "outputs": [
    {
     "name": "stdout",
     "output_type": "stream",
     "text": [
      "<class 'pandas.core.frame.DataFrame'>\n",
      "RangeIndex: 132 entries, 0 to 131\n",
      "Data columns (total 32 columns):\n",
      "0119_quiz_class     132 non-null float64\n",
      "0123_quiz1          103 non-null float64\n",
      "0126_attend         132 non-null float64\n",
      "0127_quiz2          84 non-null float64\n",
      "0201_homework0      132 non-null int64\n",
      "0201_quiz3          74 non-null float64\n",
      "0202_millionaire    132 non-null float64\n",
      "0203_quiz5          68 non-null float64\n",
      "0207_attend         132 non-null float64\n",
      "0209_attend         132 non-null int64\n",
      "0209_quiz6          66 non-null float64\n",
      "0213_homework1      132 non-null int64\n",
      "0214_attend         132 non-null float64\n",
      "0216_attend         132 non-null float64\n",
      "0301_quiz7          54 non-null float64\n",
      "0304_exam1          132 non-null float64\n",
      "0307_attend         132 non-null float64\n",
      "0315_homework2      132 non-null int64\n",
      "0327_quiz8          53 non-null float64\n",
      "0330_attend         132 non-null float64\n",
      "0402_homework3      132 non-null int64\n",
      "0404_exam2          132 non-null int64\n",
      "0406_attend         132 non-null float64\n",
      "0411_attend         132 non-null float64\n",
      "0413_quiz_class     132 non-null float64\n",
      "0415_homework4      132 non-null int64\n",
      "0430_homework5      132 non-null int64\n",
      "0509_final          132 non-null int64\n",
      "0510_extra          132 non-null float64\n",
      "0510_group          132 non-null float64\n",
      "total_sum           132 non-null float64\n",
      "total_weighted      132 non-null float64\n",
      "dtypes: float64(23), int64(9)\n",
      "memory usage: 33.1 KB\n"
     ]
    }
   ],
   "source": [
    "grades.info()"
   ]
  },
  {
   "cell_type": "markdown",
   "metadata": {
    "button": false,
    "deletable": true,
    "editable": true,
    "new_sheet": false,
    "run_control": {
     "read_only": false
    }
   },
   "source": [
    "# Multiply weighted total by 100"
   ]
  },
  {
   "cell_type": "code",
   "execution_count": 12,
   "metadata": {
    "button": false,
    "collapsed": false,
    "deletable": true,
    "editable": true,
    "new_sheet": false,
    "run_control": {
     "read_only": false
    }
   },
   "outputs": [],
   "source": [
    "grades.total_weighted = grades.total_weighted * 100"
   ]
  },
  {
   "cell_type": "markdown",
   "metadata": {
    "button": false,
    "deletable": true,
    "editable": true,
    "new_sheet": false,
    "run_control": {
     "read_only": false
    }
   },
   "source": [
    "# Synthesize attendance data using in-class quizzes and millionare"
   ]
  },
  {
   "cell_type": "code",
   "execution_count": 13,
   "metadata": {
    "button": false,
    "collapsed": false,
    "deletable": true,
    "editable": true,
    "new_sheet": false,
    "run_control": {
     "read_only": false
    }
   },
   "outputs": [
    {
     "data": {
      "text/plain": [
       "Index(['0119_quiz_class', '0123_quiz1', '0126_attend', '0127_quiz2',\n",
       "       '0201_homework0', '0201_quiz3', '0202_millionaire', '0203_quiz5',\n",
       "       '0207_attend', '0209_attend', '0209_quiz6', '0213_homework1',\n",
       "       '0214_attend', '0216_attend', '0301_quiz7', '0304_exam1', '0307_attend',\n",
       "       '0315_homework2', '0327_quiz8', '0330_attend', '0402_homework3',\n",
       "       '0404_exam2', '0406_attend', '0411_attend', '0413_quiz_class',\n",
       "       '0415_homework4', '0430_homework5', '0509_final', '0510_extra',\n",
       "       '0510_group', 'total_sum', 'total_weighted'],\n",
       "      dtype='object')"
      ]
     },
     "execution_count": 13,
     "metadata": {},
     "output_type": "execute_result"
    }
   ],
   "source": [
    "grades.columns"
   ]
  },
  {
   "cell_type": "code",
   "execution_count": 14,
   "metadata": {
    "button": false,
    "collapsed": true,
    "deletable": true,
    "editable": true,
    "new_sheet": false,
    "run_control": {
     "read_only": false
    }
   },
   "outputs": [],
   "source": [
    "grades['0119_attend'] = pd.Series(grades['0119_quiz_class'] > 0).astype(int)\n",
    "grades['0413_attend'] = pd.Series(grades['0413_quiz_class'] > 0).astype(int)\n",
    "grades['0202_attend'] = pd.Series(grades['0202_millionaire'] > 0).astype(int)"
   ]
  },
  {
   "cell_type": "markdown",
   "metadata": {
    "button": false,
    "deletable": true,
    "editable": true,
    "new_sheet": false,
    "run_control": {
     "read_only": false
    }
   },
   "source": [
    "### Resort columns"
   ]
  },
  {
   "cell_type": "code",
   "execution_count": 15,
   "metadata": {
    "button": false,
    "collapsed": false,
    "deletable": true,
    "editable": true,
    "new_sheet": false,
    "run_control": {
     "read_only": false
    },
    "scrolled": true
   },
   "outputs": [
    {
     "data": {
      "text/html": [
       "<div>\n",
       "<table border=\"1\" class=\"dataframe\">\n",
       "  <thead>\n",
       "    <tr style=\"text-align: right;\">\n",
       "      <th></th>\n",
       "      <th>0119_attend</th>\n",
       "      <th>0119_quiz_class</th>\n",
       "      <th>0123_quiz1</th>\n",
       "      <th>0126_attend</th>\n",
       "      <th>0127_quiz2</th>\n",
       "      <th>0201_homework0</th>\n",
       "      <th>0201_quiz3</th>\n",
       "      <th>0202_attend</th>\n",
       "      <th>0202_millionaire</th>\n",
       "      <th>0203_quiz5</th>\n",
       "      <th>0207_attend</th>\n",
       "      <th>0209_attend</th>\n",
       "      <th>0209_quiz6</th>\n",
       "      <th>0213_homework1</th>\n",
       "      <th>0214_attend</th>\n",
       "      <th>0216_attend</th>\n",
       "      <th>0301_quiz7</th>\n",
       "      <th>0304_exam1</th>\n",
       "      <th>0307_attend</th>\n",
       "      <th>0315_homework2</th>\n",
       "      <th>0327_quiz8</th>\n",
       "      <th>0330_attend</th>\n",
       "      <th>0402_homework3</th>\n",
       "      <th>0404_exam2</th>\n",
       "      <th>0406_attend</th>\n",
       "      <th>0411_attend</th>\n",
       "      <th>0413_attend</th>\n",
       "      <th>0413_quiz_class</th>\n",
       "      <th>0415_homework4</th>\n",
       "      <th>0430_homework5</th>\n",
       "      <th>0509_final</th>\n",
       "      <th>0510_extra</th>\n",
       "      <th>0510_group</th>\n",
       "      <th>total_sum</th>\n",
       "      <th>total_weighted</th>\n",
       "    </tr>\n",
       "  </thead>\n",
       "  <tbody>\n",
       "    <tr>\n",
       "      <th>0</th>\n",
       "      <td>0</td>\n",
       "      <td>0.0</td>\n",
       "      <td>NaN</td>\n",
       "      <td>1.0</td>\n",
       "      <td>NaN</td>\n",
       "      <td>100</td>\n",
       "      <td>NaN</td>\n",
       "      <td>1</td>\n",
       "      <td>7.5</td>\n",
       "      <td>NaN</td>\n",
       "      <td>0.0</td>\n",
       "      <td>1</td>\n",
       "      <td>NaN</td>\n",
       "      <td>0</td>\n",
       "      <td>0.0</td>\n",
       "      <td>1.0</td>\n",
       "      <td>NaN</td>\n",
       "      <td>68.0</td>\n",
       "      <td>0.0</td>\n",
       "      <td>0</td>\n",
       "      <td>NaN</td>\n",
       "      <td>0.0</td>\n",
       "      <td>0</td>\n",
       "      <td>64</td>\n",
       "      <td>0.0</td>\n",
       "      <td>0.0</td>\n",
       "      <td>0</td>\n",
       "      <td>0.0</td>\n",
       "      <td>0</td>\n",
       "      <td>0</td>\n",
       "      <td>0</td>\n",
       "      <td>0.0</td>\n",
       "      <td>0.0</td>\n",
       "      <td>306.5</td>\n",
       "      <td>25.23</td>\n",
       "    </tr>\n",
       "    <tr>\n",
       "      <th>1</th>\n",
       "      <td>0</td>\n",
       "      <td>0.0</td>\n",
       "      <td>98.0</td>\n",
       "      <td>1.0</td>\n",
       "      <td>94.0</td>\n",
       "      <td>100</td>\n",
       "      <td>100.0</td>\n",
       "      <td>1</td>\n",
       "      <td>5.7</td>\n",
       "      <td>100.0</td>\n",
       "      <td>1.0</td>\n",
       "      <td>1</td>\n",
       "      <td>78.0</td>\n",
       "      <td>100</td>\n",
       "      <td>1.0</td>\n",
       "      <td>1.0</td>\n",
       "      <td>NaN</td>\n",
       "      <td>33.0</td>\n",
       "      <td>1.0</td>\n",
       "      <td>100</td>\n",
       "      <td>NaN</td>\n",
       "      <td>1.0</td>\n",
       "      <td>60</td>\n",
       "      <td>26</td>\n",
       "      <td>1.0</td>\n",
       "      <td>0.0</td>\n",
       "      <td>1</td>\n",
       "      <td>67.0</td>\n",
       "      <td>100</td>\n",
       "      <td>100</td>\n",
       "      <td>50</td>\n",
       "      <td>0.0</td>\n",
       "      <td>40.0</td>\n",
       "      <td>1287.7</td>\n",
       "      <td>58.80</td>\n",
       "    </tr>\n",
       "    <tr>\n",
       "      <th>2</th>\n",
       "      <td>1</td>\n",
       "      <td>4.0</td>\n",
       "      <td>96.0</td>\n",
       "      <td>1.0</td>\n",
       "      <td>98.0</td>\n",
       "      <td>100</td>\n",
       "      <td>96.0</td>\n",
       "      <td>1</td>\n",
       "      <td>7.8</td>\n",
       "      <td>94.0</td>\n",
       "      <td>0.0</td>\n",
       "      <td>1</td>\n",
       "      <td>90.0</td>\n",
       "      <td>0</td>\n",
       "      <td>0.0</td>\n",
       "      <td>1.0</td>\n",
       "      <td>88.0</td>\n",
       "      <td>57.0</td>\n",
       "      <td>0.0</td>\n",
       "      <td>10</td>\n",
       "      <td>94.0</td>\n",
       "      <td>0.0</td>\n",
       "      <td>0</td>\n",
       "      <td>85</td>\n",
       "      <td>0.0</td>\n",
       "      <td>0.0</td>\n",
       "      <td>1</td>\n",
       "      <td>77.0</td>\n",
       "      <td>90</td>\n",
       "      <td>100</td>\n",
       "      <td>86</td>\n",
       "      <td>0.0</td>\n",
       "      <td>80.0</td>\n",
       "      <td>1440.8</td>\n",
       "      <td>70.80</td>\n",
       "    </tr>\n",
       "    <tr>\n",
       "      <th>3</th>\n",
       "      <td>0</td>\n",
       "      <td>0.0</td>\n",
       "      <td>96.0</td>\n",
       "      <td>0.0</td>\n",
       "      <td>96.0</td>\n",
       "      <td>100</td>\n",
       "      <td>98.0</td>\n",
       "      <td>0</td>\n",
       "      <td>0.0</td>\n",
       "      <td>94.0</td>\n",
       "      <td>0.0</td>\n",
       "      <td>1</td>\n",
       "      <td>NaN</td>\n",
       "      <td>120</td>\n",
       "      <td>0.0</td>\n",
       "      <td>0.0</td>\n",
       "      <td>NaN</td>\n",
       "      <td>61.0</td>\n",
       "      <td>0.0</td>\n",
       "      <td>100</td>\n",
       "      <td>NaN</td>\n",
       "      <td>0.0</td>\n",
       "      <td>110</td>\n",
       "      <td>85</td>\n",
       "      <td>0.0</td>\n",
       "      <td>0.0</td>\n",
       "      <td>1</td>\n",
       "      <td>50.0</td>\n",
       "      <td>100</td>\n",
       "      <td>100</td>\n",
       "      <td>76</td>\n",
       "      <td>1.0</td>\n",
       "      <td>40.0</td>\n",
       "      <td>1413.0</td>\n",
       "      <td>81.53</td>\n",
       "    </tr>\n",
       "    <tr>\n",
       "      <th>4</th>\n",
       "      <td>1</td>\n",
       "      <td>1.0</td>\n",
       "      <td>88.0</td>\n",
       "      <td>1.0</td>\n",
       "      <td>90.0</td>\n",
       "      <td>100</td>\n",
       "      <td>90.0</td>\n",
       "      <td>1</td>\n",
       "      <td>3.5</td>\n",
       "      <td>82.0</td>\n",
       "      <td>1.0</td>\n",
       "      <td>1</td>\n",
       "      <td>92.0</td>\n",
       "      <td>0</td>\n",
       "      <td>1.0</td>\n",
       "      <td>1.0</td>\n",
       "      <td>NaN</td>\n",
       "      <td>55.0</td>\n",
       "      <td>1.0</td>\n",
       "      <td>50</td>\n",
       "      <td>NaN</td>\n",
       "      <td>0.0</td>\n",
       "      <td>10</td>\n",
       "      <td>84</td>\n",
       "      <td>0.0</td>\n",
       "      <td>1.0</td>\n",
       "      <td>1</td>\n",
       "      <td>117.0</td>\n",
       "      <td>100</td>\n",
       "      <td>90</td>\n",
       "      <td>72</td>\n",
       "      <td>0.0</td>\n",
       "      <td>100.0</td>\n",
       "      <td>1323.5</td>\n",
       "      <td>70.54</td>\n",
       "    </tr>\n",
       "  </tbody>\n",
       "</table>\n",
       "</div>"
      ],
      "text/plain": [
       "   0119_attend  0119_quiz_class  0123_quiz1  0126_attend  0127_quiz2  \\\n",
       "0            0              0.0         NaN          1.0         NaN   \n",
       "1            0              0.0        98.0          1.0        94.0   \n",
       "2            1              4.0        96.0          1.0        98.0   \n",
       "3            0              0.0        96.0          0.0        96.0   \n",
       "4            1              1.0        88.0          1.0        90.0   \n",
       "\n",
       "   0201_homework0  0201_quiz3  0202_attend  0202_millionaire  0203_quiz5  \\\n",
       "0             100         NaN            1               7.5         NaN   \n",
       "1             100       100.0            1               5.7       100.0   \n",
       "2             100        96.0            1               7.8        94.0   \n",
       "3             100        98.0            0               0.0        94.0   \n",
       "4             100        90.0            1               3.5        82.0   \n",
       "\n",
       "   0207_attend  0209_attend  0209_quiz6  0213_homework1  0214_attend  \\\n",
       "0          0.0            1         NaN               0          0.0   \n",
       "1          1.0            1        78.0             100          1.0   \n",
       "2          0.0            1        90.0               0          0.0   \n",
       "3          0.0            1         NaN             120          0.0   \n",
       "4          1.0            1        92.0               0          1.0   \n",
       "\n",
       "   0216_attend  0301_quiz7  0304_exam1  0307_attend  0315_homework2  \\\n",
       "0          1.0         NaN        68.0          0.0               0   \n",
       "1          1.0         NaN        33.0          1.0             100   \n",
       "2          1.0        88.0        57.0          0.0              10   \n",
       "3          0.0         NaN        61.0          0.0             100   \n",
       "4          1.0         NaN        55.0          1.0              50   \n",
       "\n",
       "   0327_quiz8  0330_attend  0402_homework3  0404_exam2  0406_attend  \\\n",
       "0         NaN          0.0               0          64          0.0   \n",
       "1         NaN          1.0              60          26          1.0   \n",
       "2        94.0          0.0               0          85          0.0   \n",
       "3         NaN          0.0             110          85          0.0   \n",
       "4         NaN          0.0              10          84          0.0   \n",
       "\n",
       "   0411_attend  0413_attend  0413_quiz_class  0415_homework4  0430_homework5  \\\n",
       "0          0.0            0              0.0               0               0   \n",
       "1          0.0            1             67.0             100             100   \n",
       "2          0.0            1             77.0              90             100   \n",
       "3          0.0            1             50.0             100             100   \n",
       "4          1.0            1            117.0             100              90   \n",
       "\n",
       "   0509_final  0510_extra  0510_group  total_sum  total_weighted  \n",
       "0           0         0.0         0.0      306.5           25.23  \n",
       "1          50         0.0        40.0     1287.7           58.80  \n",
       "2          86         0.0        80.0     1440.8           70.80  \n",
       "3          76         1.0        40.0     1413.0           81.53  \n",
       "4          72         0.0       100.0     1323.5           70.54  "
      ]
     },
     "execution_count": 15,
     "metadata": {},
     "output_type": "execute_result"
    }
   ],
   "source": [
    "grades = grades[grades.columns.sort_values()]\n",
    "grades.head()"
   ]
  },
  {
   "cell_type": "markdown",
   "metadata": {
    "button": false,
    "deletable": true,
    "editable": true,
    "new_sheet": false,
    "run_control": {
     "read_only": false
    }
   },
   "source": [
    "# Export as CSV"
   ]
  },
  {
   "cell_type": "code",
   "execution_count": 16,
   "metadata": {
    "button": false,
    "collapsed": false,
    "deletable": true,
    "editable": true,
    "new_sheet": false,
    "run_control": {
     "read_only": false
    }
   },
   "outputs": [],
   "source": [
    "grades.to_csv('data/grades_cleaned_20170520.csv', index = False)"
   ]
  },
  {
   "cell_type": "code",
   "execution_count": 17,
   "metadata": {
    "button": false,
    "collapsed": false,
    "deletable": true,
    "editable": true,
    "new_sheet": false,
    "run_control": {
     "read_only": false
    }
   },
   "outputs": [
    {
     "data": {
      "text/html": [
       "<div>\n",
       "<table border=\"1\" class=\"dataframe\">\n",
       "  <thead>\n",
       "    <tr style=\"text-align: right;\">\n",
       "      <th></th>\n",
       "      <th>0119_attend</th>\n",
       "      <th>0119_quiz_class</th>\n",
       "      <th>0123_quiz1</th>\n",
       "      <th>0126_attend</th>\n",
       "      <th>0127_quiz2</th>\n",
       "      <th>0201_homework0</th>\n",
       "      <th>0201_quiz3</th>\n",
       "      <th>0202_attend</th>\n",
       "      <th>0202_millionaire</th>\n",
       "      <th>0203_quiz5</th>\n",
       "      <th>0207_attend</th>\n",
       "      <th>0209_attend</th>\n",
       "      <th>0209_quiz6</th>\n",
       "      <th>0213_homework1</th>\n",
       "      <th>0214_attend</th>\n",
       "      <th>0216_attend</th>\n",
       "      <th>0301_quiz7</th>\n",
       "      <th>0304_exam1</th>\n",
       "      <th>0307_attend</th>\n",
       "      <th>0315_homework2</th>\n",
       "      <th>0327_quiz8</th>\n",
       "      <th>0330_attend</th>\n",
       "      <th>0402_homework3</th>\n",
       "      <th>0404_exam2</th>\n",
       "      <th>0406_attend</th>\n",
       "      <th>0411_attend</th>\n",
       "      <th>0413_attend</th>\n",
       "      <th>0413_quiz_class</th>\n",
       "      <th>0415_homework4</th>\n",
       "      <th>0430_homework5</th>\n",
       "      <th>0509_final</th>\n",
       "      <th>0510_extra</th>\n",
       "      <th>0510_group</th>\n",
       "      <th>total_sum</th>\n",
       "      <th>total_weighted</th>\n",
       "    </tr>\n",
       "  </thead>\n",
       "  <tbody>\n",
       "    <tr>\n",
       "      <th>0</th>\n",
       "      <td>0</td>\n",
       "      <td>0.0</td>\n",
       "      <td>NaN</td>\n",
       "      <td>1.0</td>\n",
       "      <td>NaN</td>\n",
       "      <td>100</td>\n",
       "      <td>NaN</td>\n",
       "      <td>1</td>\n",
       "      <td>7.5</td>\n",
       "      <td>NaN</td>\n",
       "      <td>0.0</td>\n",
       "      <td>1</td>\n",
       "      <td>NaN</td>\n",
       "      <td>0</td>\n",
       "      <td>0.0</td>\n",
       "      <td>1.0</td>\n",
       "      <td>NaN</td>\n",
       "      <td>68.0</td>\n",
       "      <td>0.0</td>\n",
       "      <td>0</td>\n",
       "      <td>NaN</td>\n",
       "      <td>0.0</td>\n",
       "      <td>0</td>\n",
       "      <td>64</td>\n",
       "      <td>0.0</td>\n",
       "      <td>0.0</td>\n",
       "      <td>0</td>\n",
       "      <td>0.0</td>\n",
       "      <td>0</td>\n",
       "      <td>0</td>\n",
       "      <td>0</td>\n",
       "      <td>0.0</td>\n",
       "      <td>0.0</td>\n",
       "      <td>306.5</td>\n",
       "      <td>25.23</td>\n",
       "    </tr>\n",
       "    <tr>\n",
       "      <th>1</th>\n",
       "      <td>0</td>\n",
       "      <td>0.0</td>\n",
       "      <td>98.0</td>\n",
       "      <td>1.0</td>\n",
       "      <td>94.0</td>\n",
       "      <td>100</td>\n",
       "      <td>100.0</td>\n",
       "      <td>1</td>\n",
       "      <td>5.7</td>\n",
       "      <td>100.0</td>\n",
       "      <td>1.0</td>\n",
       "      <td>1</td>\n",
       "      <td>78.0</td>\n",
       "      <td>100</td>\n",
       "      <td>1.0</td>\n",
       "      <td>1.0</td>\n",
       "      <td>NaN</td>\n",
       "      <td>33.0</td>\n",
       "      <td>1.0</td>\n",
       "      <td>100</td>\n",
       "      <td>NaN</td>\n",
       "      <td>1.0</td>\n",
       "      <td>60</td>\n",
       "      <td>26</td>\n",
       "      <td>1.0</td>\n",
       "      <td>0.0</td>\n",
       "      <td>1</td>\n",
       "      <td>67.0</td>\n",
       "      <td>100</td>\n",
       "      <td>100</td>\n",
       "      <td>50</td>\n",
       "      <td>0.0</td>\n",
       "      <td>40.0</td>\n",
       "      <td>1287.7</td>\n",
       "      <td>58.80</td>\n",
       "    </tr>\n",
       "    <tr>\n",
       "      <th>2</th>\n",
       "      <td>1</td>\n",
       "      <td>4.0</td>\n",
       "      <td>96.0</td>\n",
       "      <td>1.0</td>\n",
       "      <td>98.0</td>\n",
       "      <td>100</td>\n",
       "      <td>96.0</td>\n",
       "      <td>1</td>\n",
       "      <td>7.8</td>\n",
       "      <td>94.0</td>\n",
       "      <td>0.0</td>\n",
       "      <td>1</td>\n",
       "      <td>90.0</td>\n",
       "      <td>0</td>\n",
       "      <td>0.0</td>\n",
       "      <td>1.0</td>\n",
       "      <td>88.0</td>\n",
       "      <td>57.0</td>\n",
       "      <td>0.0</td>\n",
       "      <td>10</td>\n",
       "      <td>94.0</td>\n",
       "      <td>0.0</td>\n",
       "      <td>0</td>\n",
       "      <td>85</td>\n",
       "      <td>0.0</td>\n",
       "      <td>0.0</td>\n",
       "      <td>1</td>\n",
       "      <td>77.0</td>\n",
       "      <td>90</td>\n",
       "      <td>100</td>\n",
       "      <td>86</td>\n",
       "      <td>0.0</td>\n",
       "      <td>80.0</td>\n",
       "      <td>1440.8</td>\n",
       "      <td>70.80</td>\n",
       "    </tr>\n",
       "    <tr>\n",
       "      <th>3</th>\n",
       "      <td>0</td>\n",
       "      <td>0.0</td>\n",
       "      <td>96.0</td>\n",
       "      <td>0.0</td>\n",
       "      <td>96.0</td>\n",
       "      <td>100</td>\n",
       "      <td>98.0</td>\n",
       "      <td>0</td>\n",
       "      <td>0.0</td>\n",
       "      <td>94.0</td>\n",
       "      <td>0.0</td>\n",
       "      <td>1</td>\n",
       "      <td>NaN</td>\n",
       "      <td>120</td>\n",
       "      <td>0.0</td>\n",
       "      <td>0.0</td>\n",
       "      <td>NaN</td>\n",
       "      <td>61.0</td>\n",
       "      <td>0.0</td>\n",
       "      <td>100</td>\n",
       "      <td>NaN</td>\n",
       "      <td>0.0</td>\n",
       "      <td>110</td>\n",
       "      <td>85</td>\n",
       "      <td>0.0</td>\n",
       "      <td>0.0</td>\n",
       "      <td>1</td>\n",
       "      <td>50.0</td>\n",
       "      <td>100</td>\n",
       "      <td>100</td>\n",
       "      <td>76</td>\n",
       "      <td>1.0</td>\n",
       "      <td>40.0</td>\n",
       "      <td>1413.0</td>\n",
       "      <td>81.53</td>\n",
       "    </tr>\n",
       "    <tr>\n",
       "      <th>4</th>\n",
       "      <td>1</td>\n",
       "      <td>1.0</td>\n",
       "      <td>88.0</td>\n",
       "      <td>1.0</td>\n",
       "      <td>90.0</td>\n",
       "      <td>100</td>\n",
       "      <td>90.0</td>\n",
       "      <td>1</td>\n",
       "      <td>3.5</td>\n",
       "      <td>82.0</td>\n",
       "      <td>1.0</td>\n",
       "      <td>1</td>\n",
       "      <td>92.0</td>\n",
       "      <td>0</td>\n",
       "      <td>1.0</td>\n",
       "      <td>1.0</td>\n",
       "      <td>NaN</td>\n",
       "      <td>55.0</td>\n",
       "      <td>1.0</td>\n",
       "      <td>50</td>\n",
       "      <td>NaN</td>\n",
       "      <td>0.0</td>\n",
       "      <td>10</td>\n",
       "      <td>84</td>\n",
       "      <td>0.0</td>\n",
       "      <td>1.0</td>\n",
       "      <td>1</td>\n",
       "      <td>117.0</td>\n",
       "      <td>100</td>\n",
       "      <td>90</td>\n",
       "      <td>72</td>\n",
       "      <td>0.0</td>\n",
       "      <td>100.0</td>\n",
       "      <td>1323.5</td>\n",
       "      <td>70.54</td>\n",
       "    </tr>\n",
       "  </tbody>\n",
       "</table>\n",
       "</div>"
      ],
      "text/plain": [
       "   0119_attend  0119_quiz_class  0123_quiz1  0126_attend  0127_quiz2  \\\n",
       "0            0              0.0         NaN          1.0         NaN   \n",
       "1            0              0.0        98.0          1.0        94.0   \n",
       "2            1              4.0        96.0          1.0        98.0   \n",
       "3            0              0.0        96.0          0.0        96.0   \n",
       "4            1              1.0        88.0          1.0        90.0   \n",
       "\n",
       "   0201_homework0  0201_quiz3  0202_attend  0202_millionaire  0203_quiz5  \\\n",
       "0             100         NaN            1               7.5         NaN   \n",
       "1             100       100.0            1               5.7       100.0   \n",
       "2             100        96.0            1               7.8        94.0   \n",
       "3             100        98.0            0               0.0        94.0   \n",
       "4             100        90.0            1               3.5        82.0   \n",
       "\n",
       "   0207_attend  0209_attend  0209_quiz6  0213_homework1  0214_attend  \\\n",
       "0          0.0            1         NaN               0          0.0   \n",
       "1          1.0            1        78.0             100          1.0   \n",
       "2          0.0            1        90.0               0          0.0   \n",
       "3          0.0            1         NaN             120          0.0   \n",
       "4          1.0            1        92.0               0          1.0   \n",
       "\n",
       "   0216_attend  0301_quiz7  0304_exam1  0307_attend  0315_homework2  \\\n",
       "0          1.0         NaN        68.0          0.0               0   \n",
       "1          1.0         NaN        33.0          1.0             100   \n",
       "2          1.0        88.0        57.0          0.0              10   \n",
       "3          0.0         NaN        61.0          0.0             100   \n",
       "4          1.0         NaN        55.0          1.0              50   \n",
       "\n",
       "   0327_quiz8  0330_attend  0402_homework3  0404_exam2  0406_attend  \\\n",
       "0         NaN          0.0               0          64          0.0   \n",
       "1         NaN          1.0              60          26          1.0   \n",
       "2        94.0          0.0               0          85          0.0   \n",
       "3         NaN          0.0             110          85          0.0   \n",
       "4         NaN          0.0              10          84          0.0   \n",
       "\n",
       "   0411_attend  0413_attend  0413_quiz_class  0415_homework4  0430_homework5  \\\n",
       "0          0.0            0              0.0               0               0   \n",
       "1          0.0            1             67.0             100             100   \n",
       "2          0.0            1             77.0              90             100   \n",
       "3          0.0            1             50.0             100             100   \n",
       "4          1.0            1            117.0             100              90   \n",
       "\n",
       "   0509_final  0510_extra  0510_group  total_sum  total_weighted  \n",
       "0           0         0.0         0.0      306.5           25.23  \n",
       "1          50         0.0        40.0     1287.7           58.80  \n",
       "2          86         0.0        80.0     1440.8           70.80  \n",
       "3          76         1.0        40.0     1413.0           81.53  \n",
       "4          72         0.0       100.0     1323.5           70.54  "
      ]
     },
     "execution_count": 17,
     "metadata": {},
     "output_type": "execute_result"
    }
   ],
   "source": [
    "pd.read_csv('data/grades_cleaned_20170520.csv').head()"
   ]
  }
 ],
 "metadata": {
  "anaconda-cloud": {},
  "kernelspec": {
   "display_name": "Python [conda root]",
   "language": "python",
   "name": "conda-root-py"
  },
  "language_info": {
   "codemirror_mode": {
    "name": "ipython",
    "version": 3
   },
   "file_extension": ".py",
   "mimetype": "text/x-python",
   "name": "python",
   "nbconvert_exporter": "python",
   "pygments_lexer": "ipython3",
   "version": "3.5.2"
  }
 },
 "nbformat": 4,
 "nbformat_minor": 1
}
